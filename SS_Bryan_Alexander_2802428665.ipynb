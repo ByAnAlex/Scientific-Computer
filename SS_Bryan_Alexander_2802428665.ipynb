{
  "nbformat": 4,
  "nbformat_minor": 0,
  "metadata": {
    "colab": {
      "provenance": [],
      "authorship_tag": "ABX9TyN8MF3JQcE0ulYI2ZvJ3cTA",
      "include_colab_link": true
    },
    "kernelspec": {
      "name": "python3",
      "display_name": "Python 3"
    },
    "language_info": {
      "name": "python"
    }
  },
  "cells": [
    {
      "cell_type": "markdown",
      "metadata": {
        "id": "view-in-github",
        "colab_type": "text"
      },
      "source": [
        "<a href=\"https://colab.research.google.com/github/ByAnAlex/Scientific-Computer/blob/main/SS_Bryan_Alexander_2802428665.ipynb\" target=\"_parent\"><img src=\"https://colab.research.google.com/assets/colab-badge.svg\" alt=\"Open In Colab\"/></a>"
      ]
    },
    {
      "cell_type": "code",
      "execution_count": 6,
      "metadata": {
        "colab": {
          "base_uri": "https://localhost:8080/"
        },
        "id": "JXpvtgciik02",
        "outputId": "7602cb0a-e75c-429f-b9d2-84ad7ef63cd0"
      },
      "outputs": [
        {
          "output_type": "stream",
          "name": "stdout",
          "text": [
            "Akar dari x^2 - 2 adalah : 1.4140625\n",
            "r =  1.4375\n",
            "r01 =  1.4140625\n",
            "f(r) =  0.06640625\n",
            "f(r01) =  -0.00042724609375\n"
          ]
        }
      ],
      "source": [
        "import numpy as np\n",
        "\n",
        "def my_bisection(f, a, b, tol):\n",
        "    if np.sign(f(a)) == np.sign(f(b)):\n",
        "        raise Exception(\"a dan b tidak mengapit akar\")\n",
        "\n",
        "    m = (a + b) / 2\n",
        "    if abs(f(m)) < tol:\n",
        "        return m\n",
        "    elif np.sign(f(a)) == np.sign(f(m)):\n",
        "        return my_bisection(f, m, b, tol)\n",
        "    else:\n",
        "        return my_bisection(f, a, m, tol)\n",
        "\n",
        "f = lambda x: x**2 - 2\n",
        "\n",
        "hasil = my_bisection(f, 0, 2, 0.01)\n",
        "r = my_bisection(f, 0, 2, 0.1)\n",
        "\n",
        "\n",
        "print(\"Akar dari x^2 - 2 adalah :\", hasil)\n",
        "print(\"r = \", r)\n",
        "print(\"r01 = \", hasil)\n",
        "print(\"f(r) = \", f(r))\n",
        "print(\"f(r01) = \", f(hasil))\n"
      ]
    },
    {
      "cell_type": "code",
      "source": [
        "def my_newton(f, df, x0, tol):\n",
        "    if abs(f(x0)) < tol:\n",
        "        return x0\n",
        "    else:\n",
        "        return my_newton(f, df, x0 - f(x0) / df(x0), tol)\n",
        "\n",
        "f = lambda x: x**2 - 2\n",
        "f_prime = lambda x: 2 * x\n",
        "\n",
        "hasil = my_newton(f, f_prime, 1.5, 1e-5)\n",
        "print(\"Akar dari x^2 - 2 adalah:\", hasil)\n"
      ],
      "metadata": {
        "colab": {
          "base_uri": "https://localhost:8080/"
        },
        "id": "eE3z9loylC9Y",
        "outputId": "47f77fec-cc74-4217-9dac-4ac7f4178008"
      },
      "execution_count": 5,
      "outputs": [
        {
          "output_type": "stream",
          "name": "stdout",
          "text": [
            "Akar dari x^2 - 2 adalah: 1.4142156862745099\n"
          ]
        }
      ]
    },
    {
      "cell_type": "code",
      "source": [
        "import numpy as np\n",
        "\n",
        "def my_bisection(f, a, b, tol):\n",
        "    if np.sign(f(a)) == np.sign(f(b)):\n",
        "        raise Exception(\"a dan b tidak mengapit akar\")\n",
        "\n",
        "    while (b - a) / 2 > tol:\n",
        "        m = (a + b) / 2\n",
        "        if f(m) == 0:\n",
        "            return m\n",
        "        elif np.sign(f(a)) == np.sign(f(m)):\n",
        "            a = m\n",
        "        else:\n",
        "            b = m\n",
        "    return (a + b) / 2\n",
        "\n",
        "\n",
        "f = lambda x: np.sin(x) - x\n",
        "\n",
        "\n",
        "a = 0\n",
        "b = 1\n",
        "tol = 0.01\n",
        "\n",
        "hasil = my_bisection(f, a, b, tol)\n",
        "\n",
        "print(\"Akar dari f(x) = sin(x) - x adalah:\", np.round(hasil, 4))\n"
      ],
      "metadata": {
        "colab": {
          "base_uri": "https://localhost:8080/"
        },
        "id": "g1jHfERE23of",
        "outputId": "e367f8f6-16ba-4837-873c-fc0218d57118"
      },
      "execution_count": 10,
      "outputs": [
        {
          "output_type": "stream",
          "name": "stdout",
          "text": [
            "Akar dari f(x) = sin(x) - x adalah: 0.0078\n"
          ]
        }
      ]
    },
    {
      "cell_type": "code",
      "source": [
        "def my_newton(f, df, x0, tol):\n",
        "    while abs(f(x0)) > tol:\n",
        "        x0 = x0 - f(x0) / df(x0)\n",
        "    return x0\n",
        "\n",
        "\n",
        "f = lambda x: x**3 - 3*x**2 + 2*x\n",
        "df = lambda x: 3*x**2 - 6*x + 2\n",
        "\n",
        "\n",
        "x0 = 1.5\n",
        "tol = 0.01\n",
        "\n",
        "hasil = my_newton(f, df, x0, tol)\n",
        "\n",
        "print(\"Akar dari f(x) = x^3 - 3x^2 + 2x adalah:\", round(hasil, 4))\n"
      ],
      "metadata": {
        "colab": {
          "base_uri": "https://localhost:8080/"
        },
        "id": "vxHPBoqL2_Hy",
        "outputId": "92b1924a-3a24-46d9-ea4a-a402c631db1a"
      },
      "execution_count": 12,
      "outputs": [
        {
          "output_type": "stream",
          "name": "stdout",
          "text": [
            "Akar dari f(x) = x^3 - 3x^2 + 2x adalah: 0.0\n"
          ]
        }
      ]
    }
  ]
}
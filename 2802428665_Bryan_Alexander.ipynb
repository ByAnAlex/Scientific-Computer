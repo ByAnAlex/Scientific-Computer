{
  "nbformat": 4,
  "nbformat_minor": 0,
  "metadata": {
    "colab": {
      "provenance": [],
      "authorship_tag": "ABX9TyOu+CkXyfWg3WR78Vdl53/S",
      "include_colab_link": true
    },
    "kernelspec": {
      "name": "python3",
      "display_name": "Python 3"
    },
    "language_info": {
      "name": "python"
    }
  },
  "cells": [
    {
      "cell_type": "markdown",
      "metadata": {
        "id": "view-in-github",
        "colab_type": "text"
      },
      "source": [
        "<a href=\"https://colab.research.google.com/github/ByAnAlex/Scientific-Computer/blob/main/2802428665_Bryan_Alexander.ipynb\" target=\"_parent\"><img src=\"https://colab.research.google.com/assets/colab-badge.svg\" alt=\"Open In Colab\"/></a>"
      ]
    },
    {
      "cell_type": "markdown",
      "source": [],
      "metadata": {
        "id": "4EBbQn_BJ2tn"
      }
    },
    {
      "cell_type": "markdown",
      "source": [
        "Sesi 1"
      ],
      "metadata": {
        "id": "CPXmNpHSIq8Q"
      }
    },
    {
      "cell_type": "code",
      "execution_count": 6,
      "metadata": {
        "colab": {
          "base_uri": "https://localhost:8080/"
        },
        "id": "8MRm34t5HDvH",
        "outputId": "9d4504fb-94f0-4720-9bfa-a8c2a40ae4ed"
      },
      "outputs": [
        {
          "output_type": "stream",
          "name": "stdout",
          "text": [
            "Waktu sekarang adalah : Thu Feb  6 02:41:24 2025\n"
          ]
        }
      ],
      "source": [
        "import time\n",
        "print (\"Waktu sekarang adalah :\",time.ctime())"
      ]
    },
    {
      "cell_type": "code",
      "source": [
        " x = 1\n",
        " print (\"Angka adalah : \", x)"
      ],
      "metadata": {
        "colab": {
          "base_uri": "https://localhost:8080/"
        },
        "id": "PxKCZQnmIsLo",
        "outputId": "1af37812-5391-4429-bbe6-c9cb3f4b09db"
      },
      "execution_count": 9,
      "outputs": [
        {
          "output_type": "stream",
          "name": "stdout",
          "text": [
            "Angka adalah :  1\n"
          ]
        }
      ]
    },
    {
      "cell_type": "code",
      "source": [
        "x = x + 1\n",
        "print (\"angka adalah :\", x)"
      ],
      "metadata": {
        "colab": {
          "base_uri": "https://localhost:8080/"
        },
        "id": "dwKo-MVxKSyW",
        "outputId": "9f3005eb-4d50-4bb9-c442-d1166dd20e79"
      },
      "execution_count": 17,
      "outputs": [
        {
          "output_type": "stream",
          "name": "stdout",
          "text": [
            "angka adalah : 3\n"
          ]
        }
      ]
    },
    {
      "cell_type": "code",
      "source": [
        "x = 1\n",
        "y = 1\n",
        "print (\"Angka adalah : \", x+y)"
      ],
      "metadata": {
        "colab": {
          "base_uri": "https://localhost:8080/"
        },
        "id": "CfBZiZUSJXyx",
        "outputId": "de3d8660-df57-481c-aa20-d877bbb7f1ac"
      },
      "execution_count": 13,
      "outputs": [
        {
          "output_type": "stream",
          "name": "stdout",
          "text": [
            "Angka adalah :  2\n"
          ]
        }
      ]
    },
    {
      "cell_type": "code",
      "source": [
        "x = 1\n",
        "y = x +1\n",
        "x = 2\n",
        "print (\"Angka adalah : \", y)"
      ],
      "metadata": {
        "colab": {
          "base_uri": "https://localhost:8080/"
        },
        "id": "6k2D6M3SJwNM",
        "outputId": "373e70c3-caa1-4227-f953-e5272c89427e"
      },
      "execution_count": 15,
      "outputs": [
        {
          "output_type": "stream",
          "name": "stdout",
          "text": [
            "Angka adalah :  2\n"
          ]
        }
      ]
    },
    {
      "cell_type": "code",
      "source": [
        "import numpy as tes"
      ],
      "metadata": {
        "id": "AVE2d4cCKZIi"
      },
      "execution_count": 18,
      "outputs": []
    },
    {
      "cell_type": "code",
      "source": [
        "import numpy as np\n",
        "\n",
        "x = np.array([1,2,3])\n",
        "print (\"Array:\", x)"
      ],
      "metadata": {
        "colab": {
          "base_uri": "https://localhost:8080/"
        },
        "id": "eOTZwkhxK1-w",
        "outputId": "42cc5080-41a1-4911-9b00-d38bbab7ad2c"
      },
      "execution_count": 19,
      "outputs": [
        {
          "output_type": "stream",
          "name": "stdout",
          "text": [
            "Array: [1 2 3]\n"
          ]
        }
      ]
    },
    {
      "cell_type": "code",
      "source": [
        "import numpy as np\n",
        "\n",
        "y = np.array([[1,2,3], [4,5,6]])\n",
        "print (\"Array:\",y)"
      ],
      "metadata": {
        "colab": {
          "base_uri": "https://localhost:8080/"
        },
        "id": "J1JLFfaqLYSL",
        "outputId": "1a79c62b-81d4-4c78-cda7-dd3ec32b81c1"
      },
      "execution_count": 27,
      "outputs": [
        {
          "output_type": "stream",
          "name": "stdout",
          "text": [
            "Array: [[1 2 3]\n",
            " [4 5 6]]\n"
          ]
        }
      ]
    },
    {
      "cell_type": "code",
      "source": [
        "def add(a,b,c):\n",
        "\n",
        "  \"\"\"\n",
        "  function to sum 3 number\n",
        "  input 3 number a,b,c\n",
        "  output : the sum of 3 number\n",
        "  author:\n",
        "  date:\n",
        "  \"\"\"\n",
        "  #this is the summation\n",
        "  out = a + b + c\n",
        "  return out\n",
        "\n",
        "\n",
        "num = add(1,2,3)\n",
        "print(num)"
      ],
      "metadata": {
        "colab": {
          "base_uri": "https://localhost:8080/"
        },
        "id": "OxkAMUShMCIr",
        "outputId": "ccb4cfb2-d594-4090-bde6-c9bcad8802e8"
      },
      "execution_count": 42,
      "outputs": [
        {
          "output_type": "stream",
          "name": "stdout",
          "text": [
            "6\n"
          ]
        }
      ]
    },
    {
      "cell_type": "code",
      "source": [
        "def add(a,b,c):\n",
        "  \"\"\"\n",
        "  function to sum 3 number\n",
        "  input 3 number a,b,c\n",
        "  output : the sum of 3 number\n",
        "  author:\n",
        "  date:\n",
        "  \"\"\"\n",
        "  out = a + b + c\n",
        "  return out\n",
        "\n",
        "#Inputan Pengguna\n",
        "a = int(input(\"Masukkan angka satu: \"))\n",
        "b = int(input(\"Masukkan angka dua: \"))\n",
        "c = int(input(\"Masukkan angka tiga: \"))\n",
        "\n",
        "#Hasil output\n",
        "hasil = add(a,b,c)\n",
        "print (\"Hasil penjumlahan adalah :\", hasil)"
      ],
      "metadata": {
        "colab": {
          "base_uri": "https://localhost:8080/"
        },
        "id": "A0xXbAidNfu5",
        "outputId": "3de0f592-8bc2-4c28-9132-bc847734eb36"
      },
      "execution_count": 36,
      "outputs": [
        {
          "output_type": "stream",
          "name": "stdout",
          "text": [
            "Masukkan angka satu: 2\n",
            "Masukkan angka dua: 2\n",
            "Masukkan angka tiga: 3\n",
            "Hasil penjumlahan adalah : 7\n"
          ]
        }
      ]
    },
    {
      "cell_type": "code",
      "source": [
        "def my_thermo_stat(temp, desired_temp):\n",
        "\n",
        "  if temp < desired_temp - 5:\n",
        "    status = \"Heat\"\n",
        "\n",
        "  elif temp > desired_temp + 5:\n",
        "    status = \"AC\"\n",
        "\n",
        "  else :\n",
        "    status = \"OFF\"\n",
        "\n",
        "  return status"
      ],
      "metadata": {
        "id": "46hynzLcPAl1"
      },
      "execution_count": 45,
      "outputs": []
    },
    {
      "cell_type": "code",
      "source": [
        "status = my_thermo_stat(60,70)\n",
        "print(status)"
      ],
      "metadata": {
        "colab": {
          "base_uri": "https://localhost:8080/"
        },
        "id": "Rl_LqD56Qgbc",
        "outputId": "409cd729-2aee-4343-a187-de9c2e5ac919"
      },
      "execution_count": 47,
      "outputs": [
        {
          "output_type": "stream",
          "name": "stdout",
          "text": [
            "Heat\n"
          ]
        }
      ]
    },
    {
      "cell_type": "code",
      "source": [
        "status1 = int(input(\"Masukkan angka 1 :\"))\n",
        "status2 = int(input(\"Masukkan angka 2 :\"))\n",
        "\n",
        "status = my_thermo_stat(status1 , status2)\n",
        "print(\"Status adalah \", status)"
      ],
      "metadata": {
        "colab": {
          "base_uri": "https://localhost:8080/"
        },
        "id": "E-eEgGf1Qrx4",
        "outputId": "618ea511-a8ec-4a03-852e-b0295b91fbad"
      },
      "execution_count": 54,
      "outputs": [
        {
          "output_type": "stream",
          "name": "stdout",
          "text": [
            "Masukkan angka 1 :1\n",
            "Masukkan angka 2 :0\n",
            "Status adalah  OFF\n"
          ]
        }
      ]
    },
    {
      "cell_type": "code",
      "source": [
        "x = 3\n",
        "\n",
        "if x > 1 and x < 2 :\n",
        "  y = 2\n",
        "\n",
        "elif x > 2 and x < 4 :\n",
        "  y = 4\n",
        "\n",
        "else :\n",
        "  y = 0\n",
        "\n",
        "print(y)"
      ],
      "metadata": {
        "colab": {
          "base_uri": "https://localhost:8080/"
        },
        "id": "qbhqQfzxRnQh",
        "outputId": "1f2419ce-eebd-4918-f941-d3366acf55d2"
      },
      "execution_count": 58,
      "outputs": [
        {
          "output_type": "stream",
          "name": "stdout",
          "text": [
            "4\n"
          ]
        }
      ]
    },
    {
      "cell_type": "code",
      "source": [
        "x = int(input(\"Masukkan angka :\"))\n",
        "\n",
        "if x > 1 and x < 2 :\n",
        "  y = 2\n",
        "\n",
        "elif x > 2 and x < 4 :\n",
        "  y = 4\n",
        "\n",
        "else :\n",
        "  y = 0\n",
        "\n",
        "print(y)"
      ],
      "metadata": {
        "colab": {
          "base_uri": "https://localhost:8080/"
        },
        "id": "_Gw18-f-SPMM",
        "outputId": "9b1d1b4e-ab0b-4441-a390-22ed8bf542c8"
      },
      "execution_count": 60,
      "outputs": [
        {
          "output_type": "stream",
          "name": "stdout",
          "text": [
            "Masukkan angka :2\n",
            "0\n"
          ]
        }
      ]
    },
    {
      "cell_type": "code",
      "source": [
        "x = 3\n",
        "\n",
        "if 1 < x < 2 :\n",
        "  y = 2\n",
        "\n",
        "elif 2 < x < 4 :\n",
        "  y = 4\n",
        "\n",
        "else :\n",
        "  y = 0\n",
        "\n",
        "print(y)"
      ],
      "metadata": {
        "colab": {
          "base_uri": "https://localhost:8080/"
        },
        "id": "O6ZnsPj1R4pn",
        "outputId": "abee8174-4710-4ddc-a0da-4c9210c4d4ec"
      },
      "execution_count": 56,
      "outputs": [
        {
          "output_type": "stream",
          "name": "stdout",
          "text": [
            "4\n"
          ]
        }
      ]
    },
    {
      "cell_type": "code",
      "source": [
        "x = int(input(\"Masukkan angka :\"))\n",
        "\n",
        "if 1 < x < 2 :\n",
        "  y = 2\n",
        "\n",
        "elif 2 < x < 4 :\n",
        "  y = 4\n",
        "\n",
        "else :\n",
        "  y = 0\n",
        "\n",
        "print(y)"
      ],
      "metadata": {
        "colab": {
          "base_uri": "https://localhost:8080/"
        },
        "id": "x03lqP1wS0MB",
        "outputId": "c7172b34-74b7-48e6-8a1a-c3bd3f216c64"
      },
      "execution_count": 62,
      "outputs": [
        {
          "output_type": "stream",
          "name": "stdout",
          "text": [
            "Masukkan angka :3\n",
            "4\n"
          ]
        }
      ]
    },
    {
      "cell_type": "markdown",
      "source": [
        "**LATIHAN SOAL**"
      ],
      "metadata": {
        "id": "BhWPHJrcTh_0"
      }
    },
    {
      "cell_type": "code",
      "source": [
        "username = \"Bryan Alexander\"\n",
        "Password = \"Bn123\"\n",
        "\n",
        "while True :\n",
        "  User_name = input(\"Masukkan Username Anda : \")\n",
        "  PASS = input(\"Masukkan Password Anda : \")\n",
        "  if (User_name == \"Bryan Alexander\" and PASS == \"Bn123\"):\n",
        "    break\n",
        "  print(\"Incorrect Password\")\n",
        "print(\"Log in berhasil, selamat datang Bryan\")\n",
        "\n",
        "def hitung(uas, uts, ass):\n",
        "    nilai_akhir = 0.5 * uas + 0.3 * uts + 0.2 * ass\n",
        "    return nilai_akhir\n",
        "\n",
        "\n",
        "nama = input(\"Masukkan nama siswa: \")\n",
        "uas = int(input(\"Masukkan nilai UAS: \"))\n",
        "uts = int(input(\"Masukkan nilai UTS: \"))\n",
        "ass = int(input(\"Masukkan nilai Assignment: \"))\n",
        "\n",
        "\n",
        "nilai = hitung(uas, uts, ass)\n",
        "\n",
        "print(\"=======================================\")\n",
        "print(\"Hasil perolehan nilai \",nama)\n",
        "print(\"Final score \", nilai)\n",
        "\n",
        "if 90 <= nilai <= 100:\n",
        "  print(\"Grade A\")\n",
        "elif 85 <= nilai <= 89:\n",
        "  print(\"Grade A-\")\n",
        "elif 80 <= nilai <= 84:\n",
        "  print(\"Grade B+\")\n",
        "elif 75 <= nilai <= 79:\n",
        "  print(\"Grade B\")\n",
        "elif 70 <= nilai <= 74:\n",
        "  print(\"Grade B-\")\n",
        "elif 65 <= nilai <= 69:\n",
        "  print(\"Grade C\")\n",
        "elif 50 <= nilai <= 64:\n",
        "  print(\"Grade D\")\n",
        "elif 0 <= nilai <= 49:\n",
        "  print(\"Grade E\")\n",
        "else :\n",
        "  print(\"Grade F\")\n"
      ],
      "metadata": {
        "colab": {
          "base_uri": "https://localhost:8080/"
        },
        "id": "Z2XeHIJqTlI4",
        "outputId": "a7d5f25c-716e-4756-cb94-eccc63f299cf"
      },
      "execution_count": 76,
      "outputs": [
        {
          "output_type": "stream",
          "name": "stdout",
          "text": [
            "Masukkan Username Anda : Bryan Alexander\n",
            "Masukkan Password Anda : Bn123\n",
            "Log in berhasil, selamat datang Bryan\n",
            "Masukkan nama siswa: Bryan\n",
            "Masukkan nilai UAS: 90\n",
            "Masukkan nilai UTS: 90\n",
            "Masukkan nilai Assignment: 90\n",
            "=======================================\n",
            "Hasil perolehan nilai  Bryan\n",
            "Final score  90.0\n",
            "Grade A\n"
          ]
        }
      ]
    }
  ]
}
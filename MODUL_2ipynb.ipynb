{
  "nbformat": 4,
  "nbformat_minor": 0,
  "metadata": {
    "colab": {
      "provenance": [],
      "authorship_tag": "ABX9TyN4oxINMuZgtZr3iGR1+uwW",
      "include_colab_link": true
    },
    "kernelspec": {
      "name": "python3",
      "display_name": "Python 3"
    },
    "language_info": {
      "name": "python"
    }
  },
  "cells": [
    {
      "cell_type": "markdown",
      "metadata": {
        "id": "view-in-github",
        "colab_type": "text"
      },
      "source": [
        "<a href=\"https://colab.research.google.com/github/ByAnAlex/Scientific-Computer/blob/main/MODUL_2ipynb.ipynb\" target=\"_parent\"><img src=\"https://colab.research.google.com/assets/colab-badge.svg\" alt=\"Open In Colab\"/></a>"
      ]
    },
    {
      "cell_type": "code",
      "source": [
        "import numpy as np\n",
        "\n",
        "x = 5\n",
        "y = 5\n",
        "z = 5\n",
        "epsilon = 0.001\n",
        "converged = False\n",
        "\n",
        "\n",
        "print('Iteration results: ')\n",
        "print('---------------------------------------------')\n",
        "print('|  k |      x     |       y    |     z      |')\n",
        "\n",
        "for k in range(1, 7):\n",
        "    x_old = x\n",
        "    y_old = y\n",
        "    z_old = z\n",
        "\n",
        "\n",
        "    x = (10 - 3*y + z) / 2\n",
        "    y = (x + 2*z - 4) / (-1)\n",
        "    z = (14 - 3*x - 2*y) / 1\n",
        "\n",
        "\n",
        "    dx = abs(x - x_old)\n",
        "    dy = abs(y - y_old)\n",
        "    dz = abs(z - z_old)\n",
        "\n",
        "    print(\"---------------------------------------------\")\n",
        "    print(\"| %2d | %10.4f | %10.4f | %10.4f |\" % (k, x, y, z))\n",
        "\n",
        "    if dx < epsilon and dy < epsilon and dz < epsilon:\n",
        "        converged = True\n",
        "        print(\"---------------------------------------------\")\n",
        "        print('Converged!')\n",
        "        break\n",
        "\n",
        "if not converged:\n",
        "    print(\"---------------------------------------------\")\n",
        "    print('Not converge')\n",
        "\n",
        "# Numpy\n",
        "print(\"\\nPerhitungan dengan Numpy:\")\n",
        "A = np.array([[2, 3, -1], [1, -1, 2], [3, 2, 1]])\n",
        "B = np.array([10, 4, 14])\n",
        "\n",
        "\n",
        "hasil = np.linalg.solve(A, B)\n",
        "\n",
        "print(\"Hasil :\")\n",
        "print(\"x =\", hasil[0])\n",
        "print(\"y =\", hasil[1])\n",
        "print(\"z =\", hasil[2])\n"
      ],
      "metadata": {
        "colab": {
          "base_uri": "https://localhost:8080/"
        },
        "id": "tmlr30yuhlk9",
        "outputId": "496d83a6-84bf-4ce3-b475-67a306f30ac8"
      },
      "execution_count": null,
      "outputs": [
        {
          "output_type": "stream",
          "name": "stdout",
          "text": [
            "Iteration results: \n",
            "---------------------------------------------\n",
            "|  k |      x     |       y    |     z      |\n",
            "---------------------------------------------\n",
            "|  1 |     0.0000 |    -6.0000 |    26.0000 |\n",
            "---------------------------------------------\n",
            "|  2 |    27.0000 |   -75.0000 |    83.0000 |\n",
            "---------------------------------------------\n",
            "|  3 |   159.0000 |  -321.0000 |   179.0000 |\n",
            "---------------------------------------------\n",
            "|  4 |   576.0000 |  -930.0000 |   146.0000 |\n",
            "---------------------------------------------\n",
            "|  5 |  1473.0000 | -1761.0000 |  -883.0000 |\n",
            "---------------------------------------------\n",
            "|  6 |  2205.0000 |  -435.0000 | -5731.0000 |\n",
            "---------------------------------------------\n",
            "Not converge\n",
            "\n",
            "Perhitungan dengan Numpy:\n",
            "Hasil :\n",
            "x = 0.6499999999999998\n",
            "y = 4.15\n",
            "z = 3.75\n"
          ]
        }
      ]
    },
    {
      "cell_type": "code",
      "source": [
        "import numpy as np\n",
        "\n",
        "\n",
        "x = 1\n",
        "y = 2\n",
        "z = 3\n",
        "epsilon = 0.001\n",
        "converged = False\n",
        "\n",
        "\n",
        "print('Iteration results: ')\n",
        "print('---------------------------------------------')\n",
        "print('|  k |      x     |      y     |    z       |')\n",
        "\n",
        "for k in range(1, 50):\n",
        "    x_old = x\n",
        "    y_old = y\n",
        "    z_old = z\n",
        "\n",
        "\n",
        "    x = (7.85 + 0.1*y + 0.2*z) / 3\n",
        "    y = (-19.3 - 0.1*x + 0.3*z) / 7\n",
        "    z = (71.4 - 0.3*x + 0.2*y) / 10\n",
        "\n",
        "\n",
        "    dx = abs(x - x_old)\n",
        "    dy = abs(y - y_old)\n",
        "    dz = abs(z - z_old)\n",
        "\n",
        "    print(\"---------------------------------------------\")\n",
        "    print(\"| %2d | %10.4f | %10.4f | %10.4f |\" % (k, x, y, z))\n",
        "\n",
        "    if dx < epsilon and dy < epsilon and dz < epsilon:\n",
        "        converged = True\n",
        "        print(\"---------------------------------------------\")\n",
        "        print('Converged!')\n",
        "        break\n",
        "\n",
        "if not converged:\n",
        "    print(\"---------------------------------------------\")\n",
        "    print('Not converge')\n",
        "\n",
        "# Numpy\n",
        "print(\"\\nPerhitungan dengan Numpy:\")\n",
        "A = np.array([[3, -0.1, -0.2], [0.1, 7, -0.3], [0.3, -0.2, 10]])\n",
        "B = np.array([7.85, -19.3, 71.4])\n",
        "\n",
        "\n",
        "hasil = np.linalg.solve(A, B)\n",
        "\n",
        "print(\"Hasil : \")\n",
        "print(\"x =\", hasil[0])\n",
        "print(\"y =\", hasil[1])\n",
        "print(\"z =\", hasil[2])\n"
      ],
      "metadata": {
        "colab": {
          "base_uri": "https://localhost:8080/"
        },
        "id": "82OBGAE7ixNw",
        "outputId": "d47f80ae-3f8e-4823-8a12-e7ea407735a8"
      },
      "execution_count": null,
      "outputs": [
        {
          "output_type": "stream",
          "name": "stdout",
          "text": [
            "Iteration results: \n",
            "---------------------------------------------\n",
            "|  k |      x     |      y     |    z       |\n",
            "---------------------------------------------\n",
            "|  1 |     2.8833 |    -2.6698 |     7.0001 |\n",
            "---------------------------------------------\n",
            "|  2 |     2.9943 |    -2.4999 |     7.0002 |\n",
            "---------------------------------------------\n",
            "|  3 |     3.0000 |    -2.5000 |     7.0000 |\n",
            "---------------------------------------------\n",
            "|  4 |     3.0000 |    -2.5000 |     7.0000 |\n",
            "---------------------------------------------\n",
            "Converged!\n",
            "\n",
            "Perhitungan dengan Numpy:\n",
            "Hasil : \n",
            "x = 3.0\n",
            "y = -2.5\n",
            "z = 7.000000000000002\n"
          ]
        }
      ]
    },
    {
      "cell_type": "code",
      "source": [
        "import numpy as np\n",
        "import matplotlib.pyplot as plt\n",
        "\n",
        "\n",
        "X = np.array([5, 4, 6, 7, 5])\n",
        "Y = np.array([10, 8, 12, 14, 10])\n",
        "\n",
        "\n",
        "N = len(X)\n",
        "\n",
        "\n",
        "sum_X = np.sum(X)\n",
        "sum_Y = np.sum(Y)\n",
        "sum_XY = np.sum(X * Y)\n",
        "sum_X2 = np.sum(X**2)\n",
        "\n",
        "\n",
        "a = (N * sum_XY - sum_X * sum_Y) / (N * sum_X2 - sum_X**2)\n",
        "b = (sum_Y - a * sum_X) / N\n",
        "\n",
        "\n",
        "print(\"Slope =\", round(a, 4))\n",
        "print(\"Intercept =\", round(b, 4))\n",
        "print(f\"Persamaan regresi: y = {round(a, 4)}x + {round(b, 4)}\")\n",
        "\n",
        "\n",
        "plt.scatter(X, Y, color='blue', label='Titik Data Asli')\n",
        "plt.plot(X, a*X + b, color='red', label='Garis Regresi')\n",
        "\n",
        "plt.title('Hasil Regresi dengan Least Square Method')\n",
        "plt.xlabel('X')\n",
        "plt.ylabel('Y')\n",
        "plt.legend()\n",
        "plt.grid(True)\n",
        "plt.show()\n"
      ],
      "metadata": {
        "colab": {
          "base_uri": "https://localhost:8080/",
          "height": 524
        },
        "id": "EMH-mZFNkFa9",
        "outputId": "37c227fc-32b4-4348-daad-5a4eae87076b"
      },
      "execution_count": null,
      "outputs": [
        {
          "output_type": "stream",
          "name": "stdout",
          "text": [
            "Slope = 2.0\n",
            "Intercept = 0.0\n",
            "Persamaan regresi: y = 2.0x + 0.0\n"
          ]
        },
        {
          "output_type": "display_data",
          "data": {
            "text/plain": [
              "<Figure size 640x480 with 1 Axes>"
            ],
            "image/png": "[encoded data removed]"
          },
          "metadata": {}
        }
      ]
    }
  ]
}